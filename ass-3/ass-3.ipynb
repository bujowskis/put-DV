{
 "cells": [
  {
   "cell_type": "markdown",
   "metadata": {
    "id": "61vfbXRtK1SQ"
   },
   "source": [
    "<img src=\"res/PP_logotyp_ANG_CMYK.svg\" width=\"90%\" />\n",
    "\n",
    "### Table of Contents\n",
    "\n",
    "1. [Executive summary](#Executive-summary)\n",
    "2. [Foreword](#Foreword)\n",
    "3. [Setting up](#Setting-up)\n",
    "    1. [Tools](#Tools)\n",
    "    2. [Datasets](#Datasets)\n",
    "    3. [Individual stocks descriptions](#Individual-stocks-descriptions)\n",
    "        1. [AAPL](#AAPL)\n",
    "        2. [GOOG](#GOOG)\n",
    "        3. [MSFT](#MSFT)\n",
    "        4. [AMZN](#AMZN)\n",
    "4. [Analysis](#Analysis)\n",
    "    1. [Pair trading similarity](#Pair-trading-similarity)\n",
    "    2. [Daily stocks exchange](#Daily-stocks-exchange)\n",
    "    3. [Moving average](#Moving-average)\n",
    "    4. [Daily average return](#Daily-average-return)\n",
    "    5. [Correlation](#Correlation)\n",
    "        1. [Pairplot](#Pairplot)\n",
    "        2. [Return on risk factor](#Return-on-risk-factor)\n",
    "    6. [Risk](#Risk)\n",
    "\n",
    "# Executive summary\n",
    "\n",
    "TODO - Summary / Afterword\n",
    "\n",
    "--||--. The analysis result is, for the interval DD.MM.YYYY - DD.MM.YYYY, out of `AAPL`, `GOOG`, `MSFT` and `AMZN`:\n",
    "- X was the best choice, given a risk factor of y\n",
    "- pairs X-Y, Y-Z can be considered for pair trading (the delays are x and y)\n",
    "\n",
    "# Foreword\n",
    "\n",
    "The following report is an analysis of the top tech stocks from the US market. It concerns deciding the best stock for\n",
    "an investment, based on given risk factor. Let us try to dig in why we need such type of analysis.\n",
    "\n",
    "Everything starts with investment and its return with some safety and security. Since there is a lot of stocks to choose\n",
    "from and every investor has their own needs when it comes to the measure of *subjectively* best stock. That is why it is\n",
    "really important to filter the stocks on some parameters when formulating personal stock portfolio.\n",
    "\n",
    "As an example, we will analyze stocks of top 4 US tech companies to see  which stock is more suitable for a portfolio\n",
    "based on risk factor.\n",
    "\n",
    "# Setting up\n",
    "\n",
    "## Tools\n",
    "\n",
    "For data processing and visualization, we are going to use python with the following tools:"
   ]
  },
  {
   "cell_type": "code",
   "execution_count": 20,
   "metadata": {
    "id": "Qf-jkY6yGH-L"
   },
   "outputs": [],
   "source": [
    "import pandas as pd\n",
    "import numpy as np\n",
    "import matplotlib.pyplot as plt\n",
    "import seaborn as sns\n",
    "sns.set_style('whitegrid')\n",
    "plt.style.use(\"fivethirtyeight\")\n",
    "%matplotlib inline\n",
    "import warnings\n",
    "warnings.filterwarnings(\"ignore\")\n",
    "from pandas_datareader.data import DataReader\n",
    "from datetime import datetime"
   ]
  },
  {
   "cell_type": "markdown",
   "metadata": {
    "id": "cmx11MZDLBJo"
   },
   "source": [
    "## Datasets\n",
    "\n",
    "The datasets we are using are imported from Yahoo reader. The 4 stocks will be\n",
    "- `AAPL` - Apple\n",
    "- `GOOG` - Google\n",
    "- `MSFT` - Microsoft\n",
    "- `AMZN` - Amazon"
   ]
  },
  {
   "cell_type": "code",
   "execution_count": 21,
   "metadata": {
    "id": "hwQwlZ6xGSDs"
   },
   "outputs": [
    {
     "ename": "ConnectionError",
     "evalue": "HTTPSConnectionPool(host='finance.yahoo.com', port=443): Max retries exceeded with url: /quote/AAPL/history?period1=1619575200&period2=1651197599&interval=1d&frequency=1d&filter=history (Caused by NewConnectionError('<urllib3.connection.HTTPSConnection object at 0x0000020422BFF760>: Failed to establish a new connection: [Errno 11001] getaddrinfo failed'))",
     "output_type": "error",
     "traceback": [
      "\u001B[1;31m---------------------------------------------------------------------------\u001B[0m",
      "\u001B[1;31mgaierror\u001B[0m                                  Traceback (most recent call last)",
      "\u001B[1;32mc:\\users\\sbujo\\appdata\\local\\programs\\python\\python39\\lib\\site-packages\\urllib3\\connection.py\u001B[0m in \u001B[0;36m_new_conn\u001B[1;34m(self)\u001B[0m\n\u001B[0;32m    173\u001B[0m         \u001B[1;32mtry\u001B[0m\u001B[1;33m:\u001B[0m\u001B[1;33m\u001B[0m\u001B[1;33m\u001B[0m\u001B[0m\n\u001B[1;32m--> 174\u001B[1;33m             conn = connection.create_connection(\n\u001B[0m\u001B[0;32m    175\u001B[0m                 \u001B[1;33m(\u001B[0m\u001B[0mself\u001B[0m\u001B[1;33m.\u001B[0m\u001B[0m_dns_host\u001B[0m\u001B[1;33m,\u001B[0m \u001B[0mself\u001B[0m\u001B[1;33m.\u001B[0m\u001B[0mport\u001B[0m\u001B[1;33m)\u001B[0m\u001B[1;33m,\u001B[0m \u001B[0mself\u001B[0m\u001B[1;33m.\u001B[0m\u001B[0mtimeout\u001B[0m\u001B[1;33m,\u001B[0m \u001B[1;33m**\u001B[0m\u001B[0mextra_kw\u001B[0m\u001B[1;33m\u001B[0m\u001B[1;33m\u001B[0m\u001B[0m\n",
      "\u001B[1;32mc:\\users\\sbujo\\appdata\\local\\programs\\python\\python39\\lib\\site-packages\\urllib3\\util\\connection.py\u001B[0m in \u001B[0;36mcreate_connection\u001B[1;34m(address, timeout, source_address, socket_options)\u001B[0m\n\u001B[0;32m     71\u001B[0m \u001B[1;33m\u001B[0m\u001B[0m\n\u001B[1;32m---> 72\u001B[1;33m     \u001B[1;32mfor\u001B[0m \u001B[0mres\u001B[0m \u001B[1;32min\u001B[0m \u001B[0msocket\u001B[0m\u001B[1;33m.\u001B[0m\u001B[0mgetaddrinfo\u001B[0m\u001B[1;33m(\u001B[0m\u001B[0mhost\u001B[0m\u001B[1;33m,\u001B[0m \u001B[0mport\u001B[0m\u001B[1;33m,\u001B[0m \u001B[0mfamily\u001B[0m\u001B[1;33m,\u001B[0m \u001B[0msocket\u001B[0m\u001B[1;33m.\u001B[0m\u001B[0mSOCK_STREAM\u001B[0m\u001B[1;33m)\u001B[0m\u001B[1;33m:\u001B[0m\u001B[1;33m\u001B[0m\u001B[1;33m\u001B[0m\u001B[0m\n\u001B[0m\u001B[0;32m     73\u001B[0m         \u001B[0maf\u001B[0m\u001B[1;33m,\u001B[0m \u001B[0msocktype\u001B[0m\u001B[1;33m,\u001B[0m \u001B[0mproto\u001B[0m\u001B[1;33m,\u001B[0m \u001B[0mcanonname\u001B[0m\u001B[1;33m,\u001B[0m \u001B[0msa\u001B[0m \u001B[1;33m=\u001B[0m \u001B[0mres\u001B[0m\u001B[1;33m\u001B[0m\u001B[1;33m\u001B[0m\u001B[0m\n",
      "\u001B[1;32mc:\\users\\sbujo\\appdata\\local\\programs\\python\\python39\\lib\\socket.py\u001B[0m in \u001B[0;36mgetaddrinfo\u001B[1;34m(host, port, family, type, proto, flags)\u001B[0m\n\u001B[0;32m    952\u001B[0m     \u001B[0maddrlist\u001B[0m \u001B[1;33m=\u001B[0m \u001B[1;33m[\u001B[0m\u001B[1;33m]\u001B[0m\u001B[1;33m\u001B[0m\u001B[1;33m\u001B[0m\u001B[0m\n\u001B[1;32m--> 953\u001B[1;33m     \u001B[1;32mfor\u001B[0m \u001B[0mres\u001B[0m \u001B[1;32min\u001B[0m \u001B[0m_socket\u001B[0m\u001B[1;33m.\u001B[0m\u001B[0mgetaddrinfo\u001B[0m\u001B[1;33m(\u001B[0m\u001B[0mhost\u001B[0m\u001B[1;33m,\u001B[0m \u001B[0mport\u001B[0m\u001B[1;33m,\u001B[0m \u001B[0mfamily\u001B[0m\u001B[1;33m,\u001B[0m \u001B[0mtype\u001B[0m\u001B[1;33m,\u001B[0m \u001B[0mproto\u001B[0m\u001B[1;33m,\u001B[0m \u001B[0mflags\u001B[0m\u001B[1;33m)\u001B[0m\u001B[1;33m:\u001B[0m\u001B[1;33m\u001B[0m\u001B[1;33m\u001B[0m\u001B[0m\n\u001B[0m\u001B[0;32m    954\u001B[0m         \u001B[0maf\u001B[0m\u001B[1;33m,\u001B[0m \u001B[0msocktype\u001B[0m\u001B[1;33m,\u001B[0m \u001B[0mproto\u001B[0m\u001B[1;33m,\u001B[0m \u001B[0mcanonname\u001B[0m\u001B[1;33m,\u001B[0m \u001B[0msa\u001B[0m \u001B[1;33m=\u001B[0m \u001B[0mres\u001B[0m\u001B[1;33m\u001B[0m\u001B[1;33m\u001B[0m\u001B[0m\n",
      "\u001B[1;31mgaierror\u001B[0m: [Errno 11001] getaddrinfo failed",
      "\nDuring handling of the above exception, another exception occurred:\n",
      "\u001B[1;31mNewConnectionError\u001B[0m                        Traceback (most recent call last)",
      "\u001B[1;32mc:\\users\\sbujo\\appdata\\local\\programs\\python\\python39\\lib\\site-packages\\urllib3\\connectionpool.py\u001B[0m in \u001B[0;36murlopen\u001B[1;34m(self, method, url, body, headers, retries, redirect, assert_same_host, timeout, pool_timeout, release_conn, chunked, body_pos, **response_kw)\u001B[0m\n\u001B[0;32m    702\u001B[0m             \u001B[1;31m# Make the request on the httplib connection object.\u001B[0m\u001B[1;33m\u001B[0m\u001B[1;33m\u001B[0m\u001B[1;33m\u001B[0m\u001B[0m\n\u001B[1;32m--> 703\u001B[1;33m             httplib_response = self._make_request(\n\u001B[0m\u001B[0;32m    704\u001B[0m                 \u001B[0mconn\u001B[0m\u001B[1;33m,\u001B[0m\u001B[1;33m\u001B[0m\u001B[1;33m\u001B[0m\u001B[0m\n",
      "\u001B[1;32mc:\\users\\sbujo\\appdata\\local\\programs\\python\\python39\\lib\\site-packages\\urllib3\\connectionpool.py\u001B[0m in \u001B[0;36m_make_request\u001B[1;34m(self, conn, method, url, timeout, chunked, **httplib_request_kw)\u001B[0m\n\u001B[0;32m    385\u001B[0m         \u001B[1;32mtry\u001B[0m\u001B[1;33m:\u001B[0m\u001B[1;33m\u001B[0m\u001B[1;33m\u001B[0m\u001B[0m\n\u001B[1;32m--> 386\u001B[1;33m             \u001B[0mself\u001B[0m\u001B[1;33m.\u001B[0m\u001B[0m_validate_conn\u001B[0m\u001B[1;33m(\u001B[0m\u001B[0mconn\u001B[0m\u001B[1;33m)\u001B[0m\u001B[1;33m\u001B[0m\u001B[1;33m\u001B[0m\u001B[0m\n\u001B[0m\u001B[0;32m    387\u001B[0m         \u001B[1;32mexcept\u001B[0m \u001B[1;33m(\u001B[0m\u001B[0mSocketTimeout\u001B[0m\u001B[1;33m,\u001B[0m \u001B[0mBaseSSLError\u001B[0m\u001B[1;33m)\u001B[0m \u001B[1;32mas\u001B[0m \u001B[0me\u001B[0m\u001B[1;33m:\u001B[0m\u001B[1;33m\u001B[0m\u001B[1;33m\u001B[0m\u001B[0m\n",
      "\u001B[1;32mc:\\users\\sbujo\\appdata\\local\\programs\\python\\python39\\lib\\site-packages\\urllib3\\connectionpool.py\u001B[0m in \u001B[0;36m_validate_conn\u001B[1;34m(self, conn)\u001B[0m\n\u001B[0;32m   1039\u001B[0m         \u001B[1;32mif\u001B[0m \u001B[1;32mnot\u001B[0m \u001B[0mgetattr\u001B[0m\u001B[1;33m(\u001B[0m\u001B[0mconn\u001B[0m\u001B[1;33m,\u001B[0m \u001B[1;34m\"sock\"\u001B[0m\u001B[1;33m,\u001B[0m \u001B[1;32mNone\u001B[0m\u001B[1;33m)\u001B[0m\u001B[1;33m:\u001B[0m  \u001B[1;31m# AppEngine might not have  `.sock`\u001B[0m\u001B[1;33m\u001B[0m\u001B[1;33m\u001B[0m\u001B[0m\n\u001B[1;32m-> 1040\u001B[1;33m             \u001B[0mconn\u001B[0m\u001B[1;33m.\u001B[0m\u001B[0mconnect\u001B[0m\u001B[1;33m(\u001B[0m\u001B[1;33m)\u001B[0m\u001B[1;33m\u001B[0m\u001B[1;33m\u001B[0m\u001B[0m\n\u001B[0m\u001B[0;32m   1041\u001B[0m \u001B[1;33m\u001B[0m\u001B[0m\n",
      "\u001B[1;32mc:\\users\\sbujo\\appdata\\local\\programs\\python\\python39\\lib\\site-packages\\urllib3\\connection.py\u001B[0m in \u001B[0;36mconnect\u001B[1;34m(self)\u001B[0m\n\u001B[0;32m    357\u001B[0m         \u001B[1;31m# Add certificate verification\u001B[0m\u001B[1;33m\u001B[0m\u001B[1;33m\u001B[0m\u001B[1;33m\u001B[0m\u001B[0m\n\u001B[1;32m--> 358\u001B[1;33m         \u001B[0mconn\u001B[0m \u001B[1;33m=\u001B[0m \u001B[0mself\u001B[0m\u001B[1;33m.\u001B[0m\u001B[0m_new_conn\u001B[0m\u001B[1;33m(\u001B[0m\u001B[1;33m)\u001B[0m\u001B[1;33m\u001B[0m\u001B[1;33m\u001B[0m\u001B[0m\n\u001B[0m\u001B[0;32m    359\u001B[0m         \u001B[0mhostname\u001B[0m \u001B[1;33m=\u001B[0m \u001B[0mself\u001B[0m\u001B[1;33m.\u001B[0m\u001B[0mhost\u001B[0m\u001B[1;33m\u001B[0m\u001B[1;33m\u001B[0m\u001B[0m\n",
      "\u001B[1;32mc:\\users\\sbujo\\appdata\\local\\programs\\python\\python39\\lib\\site-packages\\urllib3\\connection.py\u001B[0m in \u001B[0;36m_new_conn\u001B[1;34m(self)\u001B[0m\n\u001B[0;32m    185\u001B[0m         \u001B[1;32mexcept\u001B[0m \u001B[0mSocketError\u001B[0m \u001B[1;32mas\u001B[0m \u001B[0me\u001B[0m\u001B[1;33m:\u001B[0m\u001B[1;33m\u001B[0m\u001B[1;33m\u001B[0m\u001B[0m\n\u001B[1;32m--> 186\u001B[1;33m             raise NewConnectionError(\n\u001B[0m\u001B[0;32m    187\u001B[0m                 \u001B[0mself\u001B[0m\u001B[1;33m,\u001B[0m \u001B[1;34m\"Failed to establish a new connection: %s\"\u001B[0m \u001B[1;33m%\u001B[0m \u001B[0me\u001B[0m\u001B[1;33m\u001B[0m\u001B[1;33m\u001B[0m\u001B[0m\n",
      "\u001B[1;31mNewConnectionError\u001B[0m: <urllib3.connection.HTTPSConnection object at 0x0000020422BFF760>: Failed to establish a new connection: [Errno 11001] getaddrinfo failed",
      "\nDuring handling of the above exception, another exception occurred:\n",
      "\u001B[1;31mMaxRetryError\u001B[0m                             Traceback (most recent call last)",
      "\u001B[1;32mc:\\users\\sbujo\\appdata\\local\\programs\\python\\python39\\lib\\site-packages\\requests\\adapters.py\u001B[0m in \u001B[0;36msend\u001B[1;34m(self, request, stream, timeout, verify, cert, proxies)\u001B[0m\n\u001B[0;32m    439\u001B[0m             \u001B[1;32mif\u001B[0m \u001B[1;32mnot\u001B[0m \u001B[0mchunked\u001B[0m\u001B[1;33m:\u001B[0m\u001B[1;33m\u001B[0m\u001B[1;33m\u001B[0m\u001B[0m\n\u001B[1;32m--> 440\u001B[1;33m                 resp = conn.urlopen(\n\u001B[0m\u001B[0;32m    441\u001B[0m                     \u001B[0mmethod\u001B[0m\u001B[1;33m=\u001B[0m\u001B[0mrequest\u001B[0m\u001B[1;33m.\u001B[0m\u001B[0mmethod\u001B[0m\u001B[1;33m,\u001B[0m\u001B[1;33m\u001B[0m\u001B[1;33m\u001B[0m\u001B[0m\n",
      "\u001B[1;32mc:\\users\\sbujo\\appdata\\local\\programs\\python\\python39\\lib\\site-packages\\urllib3\\connectionpool.py\u001B[0m in \u001B[0;36murlopen\u001B[1;34m(self, method, url, body, headers, retries, redirect, assert_same_host, timeout, pool_timeout, release_conn, chunked, body_pos, **response_kw)\u001B[0m\n\u001B[0;32m    784\u001B[0m \u001B[1;33m\u001B[0m\u001B[0m\n\u001B[1;32m--> 785\u001B[1;33m             retries = retries.increment(\n\u001B[0m\u001B[0;32m    786\u001B[0m                 \u001B[0mmethod\u001B[0m\u001B[1;33m,\u001B[0m \u001B[0murl\u001B[0m\u001B[1;33m,\u001B[0m \u001B[0merror\u001B[0m\u001B[1;33m=\u001B[0m\u001B[0me\u001B[0m\u001B[1;33m,\u001B[0m \u001B[0m_pool\u001B[0m\u001B[1;33m=\u001B[0m\u001B[0mself\u001B[0m\u001B[1;33m,\u001B[0m \u001B[0m_stacktrace\u001B[0m\u001B[1;33m=\u001B[0m\u001B[0msys\u001B[0m\u001B[1;33m.\u001B[0m\u001B[0mexc_info\u001B[0m\u001B[1;33m(\u001B[0m\u001B[1;33m)\u001B[0m\u001B[1;33m[\u001B[0m\u001B[1;36m2\u001B[0m\u001B[1;33m]\u001B[0m\u001B[1;33m\u001B[0m\u001B[1;33m\u001B[0m\u001B[0m\n",
      "\u001B[1;32mc:\\users\\sbujo\\appdata\\local\\programs\\python\\python39\\lib\\site-packages\\urllib3\\util\\retry.py\u001B[0m in \u001B[0;36mincrement\u001B[1;34m(self, method, url, response, error, _pool, _stacktrace)\u001B[0m\n\u001B[0;32m    591\u001B[0m         \u001B[1;32mif\u001B[0m \u001B[0mnew_retry\u001B[0m\u001B[1;33m.\u001B[0m\u001B[0mis_exhausted\u001B[0m\u001B[1;33m(\u001B[0m\u001B[1;33m)\u001B[0m\u001B[1;33m:\u001B[0m\u001B[1;33m\u001B[0m\u001B[1;33m\u001B[0m\u001B[0m\n\u001B[1;32m--> 592\u001B[1;33m             \u001B[1;32mraise\u001B[0m \u001B[0mMaxRetryError\u001B[0m\u001B[1;33m(\u001B[0m\u001B[0m_pool\u001B[0m\u001B[1;33m,\u001B[0m \u001B[0murl\u001B[0m\u001B[1;33m,\u001B[0m \u001B[0merror\u001B[0m \u001B[1;32mor\u001B[0m \u001B[0mResponseError\u001B[0m\u001B[1;33m(\u001B[0m\u001B[0mcause\u001B[0m\u001B[1;33m)\u001B[0m\u001B[1;33m)\u001B[0m\u001B[1;33m\u001B[0m\u001B[1;33m\u001B[0m\u001B[0m\n\u001B[0m\u001B[0;32m    593\u001B[0m \u001B[1;33m\u001B[0m\u001B[0m\n",
      "\u001B[1;31mMaxRetryError\u001B[0m: HTTPSConnectionPool(host='finance.yahoo.com', port=443): Max retries exceeded with url: /quote/AAPL/history?period1=1619575200&period2=1651197599&interval=1d&frequency=1d&filter=history (Caused by NewConnectionError('<urllib3.connection.HTTPSConnection object at 0x0000020422BFF760>: Failed to establish a new connection: [Errno 11001] getaddrinfo failed'))",
      "\nDuring handling of the above exception, another exception occurred:\n",
      "\u001B[1;31mConnectionError\u001B[0m                           Traceback (most recent call last)",
      "\u001B[1;32m~\\AppData\\Local\\Temp/ipykernel_4552/2096059793.py\u001B[0m in \u001B[0;36m<module>\u001B[1;34m\u001B[0m\n\u001B[0;32m      6\u001B[0m \u001B[1;33m\u001B[0m\u001B[0m\n\u001B[0;32m      7\u001B[0m \u001B[1;32mfor\u001B[0m \u001B[0mstock\u001B[0m \u001B[1;32min\u001B[0m \u001B[0mtech_list\u001B[0m\u001B[1;33m:\u001B[0m\u001B[1;33m\u001B[0m\u001B[1;33m\u001B[0m\u001B[0m\n\u001B[1;32m----> 8\u001B[1;33m     \u001B[0mglobals\u001B[0m\u001B[1;33m(\u001B[0m\u001B[1;33m)\u001B[0m\u001B[1;33m[\u001B[0m\u001B[0mstock\u001B[0m\u001B[1;33m]\u001B[0m \u001B[1;33m=\u001B[0m \u001B[0mDataReader\u001B[0m\u001B[1;33m(\u001B[0m\u001B[0mstock\u001B[0m\u001B[1;33m,\u001B[0m \u001B[1;34m'yahoo'\u001B[0m\u001B[1;33m,\u001B[0m \u001B[0mstart\u001B[0m\u001B[1;33m,\u001B[0m \u001B[0mend\u001B[0m\u001B[1;33m)\u001B[0m\u001B[1;33m\u001B[0m\u001B[1;33m\u001B[0m\u001B[0m\n\u001B[0m\u001B[0;32m      9\u001B[0m \u001B[1;33m\u001B[0m\u001B[0m\n\u001B[0;32m     10\u001B[0m \u001B[1;31m# display data characteristics\u001B[0m\u001B[1;33m\u001B[0m\u001B[1;33m\u001B[0m\u001B[1;33m\u001B[0m\u001B[0m\n",
      "\u001B[1;32mc:\\users\\sbujo\\appdata\\local\\programs\\python\\python39\\lib\\site-packages\\pandas\\util\\_decorators.py\u001B[0m in \u001B[0;36mwrapper\u001B[1;34m(*args, **kwargs)\u001B[0m\n\u001B[0;32m    205\u001B[0m                 \u001B[1;32melse\u001B[0m\u001B[1;33m:\u001B[0m\u001B[1;33m\u001B[0m\u001B[1;33m\u001B[0m\u001B[0m\n\u001B[0;32m    206\u001B[0m                     \u001B[0mkwargs\u001B[0m\u001B[1;33m[\u001B[0m\u001B[0mnew_arg_name\u001B[0m\u001B[1;33m]\u001B[0m \u001B[1;33m=\u001B[0m \u001B[0mnew_arg_value\u001B[0m\u001B[1;33m\u001B[0m\u001B[1;33m\u001B[0m\u001B[0m\n\u001B[1;32m--> 207\u001B[1;33m             \u001B[1;32mreturn\u001B[0m \u001B[0mfunc\u001B[0m\u001B[1;33m(\u001B[0m\u001B[1;33m*\u001B[0m\u001B[0margs\u001B[0m\u001B[1;33m,\u001B[0m \u001B[1;33m**\u001B[0m\u001B[0mkwargs\u001B[0m\u001B[1;33m)\u001B[0m\u001B[1;33m\u001B[0m\u001B[1;33m\u001B[0m\u001B[0m\n\u001B[0m\u001B[0;32m    208\u001B[0m \u001B[1;33m\u001B[0m\u001B[0m\n\u001B[0;32m    209\u001B[0m         \u001B[1;32mreturn\u001B[0m \u001B[0mcast\u001B[0m\u001B[1;33m(\u001B[0m\u001B[0mF\u001B[0m\u001B[1;33m,\u001B[0m \u001B[0mwrapper\u001B[0m\u001B[1;33m)\u001B[0m\u001B[1;33m\u001B[0m\u001B[1;33m\u001B[0m\u001B[0m\n",
      "\u001B[1;32mc:\\users\\sbujo\\appdata\\local\\programs\\python\\python39\\lib\\site-packages\\pandas_datareader\\data.py\u001B[0m in \u001B[0;36mDataReader\u001B[1;34m(name, data_source, start, end, retry_count, pause, session, api_key)\u001B[0m\n\u001B[0;32m    368\u001B[0m \u001B[1;33m\u001B[0m\u001B[0m\n\u001B[0;32m    369\u001B[0m     \u001B[1;32mif\u001B[0m \u001B[0mdata_source\u001B[0m \u001B[1;33m==\u001B[0m \u001B[1;34m\"yahoo\"\u001B[0m\u001B[1;33m:\u001B[0m\u001B[1;33m\u001B[0m\u001B[1;33m\u001B[0m\u001B[0m\n\u001B[1;32m--> 370\u001B[1;33m         return YahooDailyReader(\n\u001B[0m\u001B[0;32m    371\u001B[0m             \u001B[0msymbols\u001B[0m\u001B[1;33m=\u001B[0m\u001B[0mname\u001B[0m\u001B[1;33m,\u001B[0m\u001B[1;33m\u001B[0m\u001B[1;33m\u001B[0m\u001B[0m\n\u001B[0;32m    372\u001B[0m             \u001B[0mstart\u001B[0m\u001B[1;33m=\u001B[0m\u001B[0mstart\u001B[0m\u001B[1;33m,\u001B[0m\u001B[1;33m\u001B[0m\u001B[1;33m\u001B[0m\u001B[0m\n",
      "\u001B[1;32mc:\\users\\sbujo\\appdata\\local\\programs\\python\\python39\\lib\\site-packages\\pandas_datareader\\base.py\u001B[0m in \u001B[0;36mread\u001B[1;34m(self)\u001B[0m\n\u001B[0;32m    251\u001B[0m         \u001B[1;31m# If a single symbol, (e.g., 'GOOG')\u001B[0m\u001B[1;33m\u001B[0m\u001B[1;33m\u001B[0m\u001B[1;33m\u001B[0m\u001B[0m\n\u001B[0;32m    252\u001B[0m         \u001B[1;32mif\u001B[0m \u001B[0misinstance\u001B[0m\u001B[1;33m(\u001B[0m\u001B[0mself\u001B[0m\u001B[1;33m.\u001B[0m\u001B[0msymbols\u001B[0m\u001B[1;33m,\u001B[0m \u001B[1;33m(\u001B[0m\u001B[0mstring_types\u001B[0m\u001B[1;33m,\u001B[0m \u001B[0mint\u001B[0m\u001B[1;33m)\u001B[0m\u001B[1;33m)\u001B[0m\u001B[1;33m:\u001B[0m\u001B[1;33m\u001B[0m\u001B[1;33m\u001B[0m\u001B[0m\n\u001B[1;32m--> 253\u001B[1;33m             \u001B[0mdf\u001B[0m \u001B[1;33m=\u001B[0m \u001B[0mself\u001B[0m\u001B[1;33m.\u001B[0m\u001B[0m_read_one_data\u001B[0m\u001B[1;33m(\u001B[0m\u001B[0mself\u001B[0m\u001B[1;33m.\u001B[0m\u001B[0murl\u001B[0m\u001B[1;33m,\u001B[0m \u001B[0mparams\u001B[0m\u001B[1;33m=\u001B[0m\u001B[0mself\u001B[0m\u001B[1;33m.\u001B[0m\u001B[0m_get_params\u001B[0m\u001B[1;33m(\u001B[0m\u001B[0mself\u001B[0m\u001B[1;33m.\u001B[0m\u001B[0msymbols\u001B[0m\u001B[1;33m)\u001B[0m\u001B[1;33m)\u001B[0m\u001B[1;33m\u001B[0m\u001B[1;33m\u001B[0m\u001B[0m\n\u001B[0m\u001B[0;32m    254\u001B[0m         \u001B[1;31m# Or multiple symbols, (e.g., ['GOOG', 'AAPL', 'MSFT'])\u001B[0m\u001B[1;33m\u001B[0m\u001B[1;33m\u001B[0m\u001B[1;33m\u001B[0m\u001B[0m\n\u001B[0;32m    255\u001B[0m         \u001B[1;32melif\u001B[0m \u001B[0misinstance\u001B[0m\u001B[1;33m(\u001B[0m\u001B[0mself\u001B[0m\u001B[1;33m.\u001B[0m\u001B[0msymbols\u001B[0m\u001B[1;33m,\u001B[0m \u001B[0mDataFrame\u001B[0m\u001B[1;33m)\u001B[0m\u001B[1;33m:\u001B[0m\u001B[1;33m\u001B[0m\u001B[1;33m\u001B[0m\u001B[0m\n",
      "\u001B[1;32mc:\\users\\sbujo\\appdata\\local\\programs\\python\\python39\\lib\\site-packages\\pandas_datareader\\yahoo\\daily.py\u001B[0m in \u001B[0;36m_read_one_data\u001B[1;34m(self, url, params)\u001B[0m\n\u001B[0;32m    147\u001B[0m         \u001B[0murl\u001B[0m \u001B[1;33m=\u001B[0m \u001B[0murl\u001B[0m\u001B[1;33m.\u001B[0m\u001B[0mformat\u001B[0m\u001B[1;33m(\u001B[0m\u001B[0msymbol\u001B[0m\u001B[1;33m)\u001B[0m\u001B[1;33m\u001B[0m\u001B[1;33m\u001B[0m\u001B[0m\n\u001B[0;32m    148\u001B[0m \u001B[1;33m\u001B[0m\u001B[0m\n\u001B[1;32m--> 149\u001B[1;33m         \u001B[0mresp\u001B[0m \u001B[1;33m=\u001B[0m \u001B[0mself\u001B[0m\u001B[1;33m.\u001B[0m\u001B[0m_get_response\u001B[0m\u001B[1;33m(\u001B[0m\u001B[0murl\u001B[0m\u001B[1;33m,\u001B[0m \u001B[0mparams\u001B[0m\u001B[1;33m=\u001B[0m\u001B[0mparams\u001B[0m\u001B[1;33m,\u001B[0m \u001B[0mheaders\u001B[0m\u001B[1;33m=\u001B[0m\u001B[0mself\u001B[0m\u001B[1;33m.\u001B[0m\u001B[0mheaders\u001B[0m\u001B[1;33m)\u001B[0m\u001B[1;33m\u001B[0m\u001B[1;33m\u001B[0m\u001B[0m\n\u001B[0m\u001B[0;32m    150\u001B[0m         \u001B[0mptrn\u001B[0m \u001B[1;33m=\u001B[0m \u001B[1;34mr\"root\\.App\\.main = (.*?);\\n}\\(this\\)\\);\"\u001B[0m\u001B[1;33m\u001B[0m\u001B[1;33m\u001B[0m\u001B[0m\n\u001B[0;32m    151\u001B[0m         \u001B[1;32mtry\u001B[0m\u001B[1;33m:\u001B[0m\u001B[1;33m\u001B[0m\u001B[1;33m\u001B[0m\u001B[0m\n",
      "\u001B[1;32mc:\\users\\sbujo\\appdata\\local\\programs\\python\\python39\\lib\\site-packages\\pandas_datareader\\base.py\u001B[0m in \u001B[0;36m_get_response\u001B[1;34m(self, url, params, headers)\u001B[0m\n\u001B[0;32m    153\u001B[0m         \u001B[0mlast_response_text\u001B[0m \u001B[1;33m=\u001B[0m \u001B[1;34m\"\"\u001B[0m\u001B[1;33m\u001B[0m\u001B[1;33m\u001B[0m\u001B[0m\n\u001B[0;32m    154\u001B[0m         \u001B[1;32mfor\u001B[0m \u001B[0m_\u001B[0m \u001B[1;32min\u001B[0m \u001B[0mrange\u001B[0m\u001B[1;33m(\u001B[0m\u001B[0mself\u001B[0m\u001B[1;33m.\u001B[0m\u001B[0mretry_count\u001B[0m \u001B[1;33m+\u001B[0m \u001B[1;36m1\u001B[0m\u001B[1;33m)\u001B[0m\u001B[1;33m:\u001B[0m\u001B[1;33m\u001B[0m\u001B[1;33m\u001B[0m\u001B[0m\n\u001B[1;32m--> 155\u001B[1;33m             response = self.session.get(\n\u001B[0m\u001B[0;32m    156\u001B[0m                 \u001B[0murl\u001B[0m\u001B[1;33m,\u001B[0m \u001B[0mparams\u001B[0m\u001B[1;33m=\u001B[0m\u001B[0mparams\u001B[0m\u001B[1;33m,\u001B[0m \u001B[0mheaders\u001B[0m\u001B[1;33m=\u001B[0m\u001B[0mheaders\u001B[0m\u001B[1;33m,\u001B[0m \u001B[0mtimeout\u001B[0m\u001B[1;33m=\u001B[0m\u001B[0mself\u001B[0m\u001B[1;33m.\u001B[0m\u001B[0mtimeout\u001B[0m\u001B[1;33m\u001B[0m\u001B[1;33m\u001B[0m\u001B[0m\n\u001B[0;32m    157\u001B[0m             )\n",
      "\u001B[1;32mc:\\users\\sbujo\\appdata\\local\\programs\\python\\python39\\lib\\site-packages\\requests\\sessions.py\u001B[0m in \u001B[0;36mget\u001B[1;34m(self, url, **kwargs)\u001B[0m\n\u001B[0;32m    540\u001B[0m \u001B[1;33m\u001B[0m\u001B[0m\n\u001B[0;32m    541\u001B[0m         \u001B[0mkwargs\u001B[0m\u001B[1;33m.\u001B[0m\u001B[0msetdefault\u001B[0m\u001B[1;33m(\u001B[0m\u001B[1;34m'allow_redirects'\u001B[0m\u001B[1;33m,\u001B[0m \u001B[1;32mTrue\u001B[0m\u001B[1;33m)\u001B[0m\u001B[1;33m\u001B[0m\u001B[1;33m\u001B[0m\u001B[0m\n\u001B[1;32m--> 542\u001B[1;33m         \u001B[1;32mreturn\u001B[0m \u001B[0mself\u001B[0m\u001B[1;33m.\u001B[0m\u001B[0mrequest\u001B[0m\u001B[1;33m(\u001B[0m\u001B[1;34m'GET'\u001B[0m\u001B[1;33m,\u001B[0m \u001B[0murl\u001B[0m\u001B[1;33m,\u001B[0m \u001B[1;33m**\u001B[0m\u001B[0mkwargs\u001B[0m\u001B[1;33m)\u001B[0m\u001B[1;33m\u001B[0m\u001B[1;33m\u001B[0m\u001B[0m\n\u001B[0m\u001B[0;32m    543\u001B[0m \u001B[1;33m\u001B[0m\u001B[0m\n\u001B[0;32m    544\u001B[0m     \u001B[1;32mdef\u001B[0m \u001B[0moptions\u001B[0m\u001B[1;33m(\u001B[0m\u001B[0mself\u001B[0m\u001B[1;33m,\u001B[0m \u001B[0murl\u001B[0m\u001B[1;33m,\u001B[0m \u001B[1;33m**\u001B[0m\u001B[0mkwargs\u001B[0m\u001B[1;33m)\u001B[0m\u001B[1;33m:\u001B[0m\u001B[1;33m\u001B[0m\u001B[1;33m\u001B[0m\u001B[0m\n",
      "\u001B[1;32mc:\\users\\sbujo\\appdata\\local\\programs\\python\\python39\\lib\\site-packages\\requests\\sessions.py\u001B[0m in \u001B[0;36mrequest\u001B[1;34m(self, method, url, params, data, headers, cookies, files, auth, timeout, allow_redirects, proxies, hooks, stream, verify, cert, json)\u001B[0m\n\u001B[0;32m    527\u001B[0m         }\n\u001B[0;32m    528\u001B[0m         \u001B[0msend_kwargs\u001B[0m\u001B[1;33m.\u001B[0m\u001B[0mupdate\u001B[0m\u001B[1;33m(\u001B[0m\u001B[0msettings\u001B[0m\u001B[1;33m)\u001B[0m\u001B[1;33m\u001B[0m\u001B[1;33m\u001B[0m\u001B[0m\n\u001B[1;32m--> 529\u001B[1;33m         \u001B[0mresp\u001B[0m \u001B[1;33m=\u001B[0m \u001B[0mself\u001B[0m\u001B[1;33m.\u001B[0m\u001B[0msend\u001B[0m\u001B[1;33m(\u001B[0m\u001B[0mprep\u001B[0m\u001B[1;33m,\u001B[0m \u001B[1;33m**\u001B[0m\u001B[0msend_kwargs\u001B[0m\u001B[1;33m)\u001B[0m\u001B[1;33m\u001B[0m\u001B[1;33m\u001B[0m\u001B[0m\n\u001B[0m\u001B[0;32m    530\u001B[0m \u001B[1;33m\u001B[0m\u001B[0m\n\u001B[0;32m    531\u001B[0m         \u001B[1;32mreturn\u001B[0m \u001B[0mresp\u001B[0m\u001B[1;33m\u001B[0m\u001B[1;33m\u001B[0m\u001B[0m\n",
      "\u001B[1;32mc:\\users\\sbujo\\appdata\\local\\programs\\python\\python39\\lib\\site-packages\\requests\\sessions.py\u001B[0m in \u001B[0;36msend\u001B[1;34m(self, request, **kwargs)\u001B[0m\n\u001B[0;32m    643\u001B[0m \u001B[1;33m\u001B[0m\u001B[0m\n\u001B[0;32m    644\u001B[0m         \u001B[1;31m# Send the request\u001B[0m\u001B[1;33m\u001B[0m\u001B[1;33m\u001B[0m\u001B[1;33m\u001B[0m\u001B[0m\n\u001B[1;32m--> 645\u001B[1;33m         \u001B[0mr\u001B[0m \u001B[1;33m=\u001B[0m \u001B[0madapter\u001B[0m\u001B[1;33m.\u001B[0m\u001B[0msend\u001B[0m\u001B[1;33m(\u001B[0m\u001B[0mrequest\u001B[0m\u001B[1;33m,\u001B[0m \u001B[1;33m**\u001B[0m\u001B[0mkwargs\u001B[0m\u001B[1;33m)\u001B[0m\u001B[1;33m\u001B[0m\u001B[1;33m\u001B[0m\u001B[0m\n\u001B[0m\u001B[0;32m    646\u001B[0m \u001B[1;33m\u001B[0m\u001B[0m\n\u001B[0;32m    647\u001B[0m         \u001B[1;31m# Total elapsed time of the request (approximately)\u001B[0m\u001B[1;33m\u001B[0m\u001B[1;33m\u001B[0m\u001B[1;33m\u001B[0m\u001B[0m\n",
      "\u001B[1;32mc:\\users\\sbujo\\appdata\\local\\programs\\python\\python39\\lib\\site-packages\\requests\\adapters.py\u001B[0m in \u001B[0;36msend\u001B[1;34m(self, request, stream, timeout, verify, cert, proxies)\u001B[0m\n\u001B[0;32m    517\u001B[0m                 \u001B[1;32mraise\u001B[0m \u001B[0mSSLError\u001B[0m\u001B[1;33m(\u001B[0m\u001B[0me\u001B[0m\u001B[1;33m,\u001B[0m \u001B[0mrequest\u001B[0m\u001B[1;33m=\u001B[0m\u001B[0mrequest\u001B[0m\u001B[1;33m)\u001B[0m\u001B[1;33m\u001B[0m\u001B[1;33m\u001B[0m\u001B[0m\n\u001B[0;32m    518\u001B[0m \u001B[1;33m\u001B[0m\u001B[0m\n\u001B[1;32m--> 519\u001B[1;33m             \u001B[1;32mraise\u001B[0m \u001B[0mConnectionError\u001B[0m\u001B[1;33m(\u001B[0m\u001B[0me\u001B[0m\u001B[1;33m,\u001B[0m \u001B[0mrequest\u001B[0m\u001B[1;33m=\u001B[0m\u001B[0mrequest\u001B[0m\u001B[1;33m)\u001B[0m\u001B[1;33m\u001B[0m\u001B[1;33m\u001B[0m\u001B[0m\n\u001B[0m\u001B[0;32m    520\u001B[0m \u001B[1;33m\u001B[0m\u001B[0m\n\u001B[0;32m    521\u001B[0m         \u001B[1;32mexcept\u001B[0m \u001B[0mClosedPoolError\u001B[0m \u001B[1;32mas\u001B[0m \u001B[0me\u001B[0m\u001B[1;33m:\u001B[0m\u001B[1;33m\u001B[0m\u001B[1;33m\u001B[0m\u001B[0m\n",
      "\u001B[1;31mConnectionError\u001B[0m: HTTPSConnectionPool(host='finance.yahoo.com', port=443): Max retries exceeded with url: /quote/AAPL/history?period1=1619575200&period2=1651197599&interval=1d&frequency=1d&filter=history (Caused by NewConnectionError('<urllib3.connection.HTTPSConnection object at 0x0000020422BFF760>: Failed to establish a new connection: [Errno 11001] getaddrinfo failed'))"
     ]
    }
   ],
   "source": [
    "tech_list = ['AAPL', 'GOOG', 'MSFT', 'AMZN']\n",
    "\n",
    "# TODO - hardcode date (makes more sense for **reproducible** report)\n",
    "end = datetime.now()\n",
    "start = datetime(end.year - 1, end.month, end.day)\n",
    "\n",
    "for stock in tech_list:\n",
    "    globals()[stock] = DataReader(stock, 'yahoo', start, end)\n",
    "\n",
    "# display data characteristics\n",
    "company_list = [AAPL, GOOG, MSFT, AMZN]\n",
    "company_name = [\"APPLE\", \"GOOGLE\", \"MICROSOFT\", \"AMAZON\"]\n",
    "\n",
    "for company, com_name in zip(company_list, company_name):\n",
    "    company[\"company_name\"] = com_name"
   ]
  },
  {
   "cell_type": "markdown",
   "metadata": {
    "id": "LTcuM3TULJXX"
   },
   "source": [
    "TODO - explanation of each attribute\n",
    "\n",
    "Besides the actual data, the whole dataset contains an additional attribute `company_name`, the sole purpose of which is\n",
    "to determine which stock a given set of values belongs. In fact, there are four datasets presented below.\n",
    "\n",
    "## Individual stocks descriptions:\n",
    "\n",
    "### APPL"
   ]
  },
  {
   "cell_type": "code",
   "execution_count": null,
   "metadata": {
    "colab": {
     "base_uri": "https://localhost:8080/",
     "height": 286
    },
    "id": "NLCT5ZE5GYwN",
    "outputId": "3c6b7327-9c69-4a8e-9b4e-d228e0686dad"
   },
   "outputs": [],
   "source": [
    "AAPL.describe()"
   ]
  },
  {
   "cell_type": "markdown",
   "metadata": {
    "pycharm": {
     "name": "#%% md\n"
    }
   },
   "source": [
    "### GOOG"
   ]
  },
  {
   "cell_type": "code",
   "execution_count": null,
   "metadata": {
    "pycharm": {
     "name": "#%%\n"
    }
   },
   "outputs": [],
   "source": [
    "GOOG.describe()"
   ]
  },
  {
   "cell_type": "markdown",
   "metadata": {
    "pycharm": {
     "name": "#%% md\n"
    }
   },
   "source": [
    "### MSFT"
   ]
  },
  {
   "cell_type": "code",
   "execution_count": null,
   "metadata": {
    "pycharm": {
     "name": "#%%\n"
    }
   },
   "outputs": [],
   "source": [
    "MSFT.describe()"
   ]
  },
  {
   "cell_type": "markdown",
   "metadata": {
    "pycharm": {
     "name": "#%% md\n"
    }
   },
   "source": [
    "### AMZN"
   ]
  },
  {
   "cell_type": "code",
   "execution_count": null,
   "metadata": {
    "pycharm": {
     "name": "#%%\n"
    }
   },
   "outputs": [],
   "source": [
    "AMZN.describe()"
   ]
  },
  {
   "cell_type": "markdown",
   "metadata": {
    "id": "dNL_GiEiLOUG"
   },
   "source": [
    "# Analysis\n",
    "\n",
    "## Pair trading similarity\n",
    "\n",
    "TODO - comments/explanation\n",
    "\n",
    "Changes in some stocks tend to follow each other. For example, it may be the case AMD's stock value follows very closely\n",
    "that of Nvidia's, with a delay of roughly 2 minutes.\n",
    "\n",
    "When that is the case, it is worth considering doing pair trading. When one is sure the above holds true and knows the\n",
    "delay, instead of using resources on analyzing both stocks, it suffices to analyze one and use the same analysis for the\n",
    "other.\n",
    "\n",
    "We can find stocks suitable for pair trading by comparing their plots of `Adj Close`."
   ]
  },
  {
   "cell_type": "code",
   "execution_count": null,
   "metadata": {
    "colab": {
     "base_uri": "https://localhost:8080/",
     "height": 670
    },
    "id": "32JsCiKPGrFE",
    "outputId": "2a40cf43-1447-4acd-d9a8-ea317f294dfb"
   },
   "outputs": [],
   "source": [
    "plt.figure(figsize=(20, 8))\n",
    "plt.subplots_adjust(top=1.25, bottom=1.2)\n",
    "\n",
    "for i, company in enumerate(company_list, 1):\n",
    "    plt.subplot(2, 2, i)\n",
    "    company['Adj Close'].plot(color='g')\n",
    "    plt.ylabel('Adj Close')\n",
    "    plt.xlabel(None)\n",
    "    plt.title(f\"{tech_list[i - 1]}\")"
   ]
  },
  {
   "cell_type": "markdown",
   "metadata": {
    "id": "u5V_aIZmLToH"
   },
   "source": [
    "TODO - conclusions of the above\n",
    "\n",
    "It can be seen that `MSFT` follows `AAPL` quite accurately, and `GOOG` does so for `MSFT`. Therefore, these pairs can be\n",
    "considered for pair trading.\n",
    "\n",
    "TODO - remove with cell below OR leave if cell below stays\n",
    "\n",
    "We can investigate these pairs further by looking at the delay."
   ]
  },
  {
   "cell_type": "code",
   "source": [
    "# TODO - close up on MSFT and AAPL to spot the delay?"
   ],
   "metadata": {
    "collapsed": false,
    "pycharm": {
     "name": "#%%\n"
    }
   },
   "execution_count": null,
   "outputs": []
  },
  {
   "cell_type": "markdown",
   "source": [
    "TODO - remove with cell above OR leave if cell below stays;\n",
    "\n",
    "TODO - conclusion\n",
    "\n",
    "As it can be seen, the delay between `AAPL` and `MSFT` is X, and Y between `MSFT` and `GOOG`.\n",
    "\n",
    "Thus, we can be quite sure that trading the former just like the first one taking into account the delay should give us\n",
    "profit, granted our trading transactions are good in the first place.\n",
    "\n",
    "## Daily stocks exchange\n",
    "\n",
    "TODO - comments/explanations (volume, see comment in code block)"
   ],
   "metadata": {
    "collapsed": false,
    "pycharm": {
     "name": "#%% md\n"
    }
   }
  },
  {
   "cell_type": "code",
   "execution_count": null,
   "metadata": {
    "colab": {
     "base_uri": "https://localhost:8080/",
     "height": 671
    },
    "id": "EKu5TtdgGyGj",
    "outputId": "743e69df-27d8-4357-9850-c3fc2bc51552"
   },
   "outputs": [],
   "source": [
    "# Plotting the total volume of stock being traded each day\n",
    "plt.figure(figsize=(20, 8))\n",
    "plt.subplots_adjust(top=1.25, bottom=1.2)\n",
    "\n",
    "for i, company in enumerate(company_list, 1):\n",
    "    plt.subplot(2, 2, i)\n",
    "    company['Volume'].plot(color='b')\n",
    "    plt.ylabel('Volume')\n",
    "    plt.xlabel(None)\n",
    "    plt.title(f\"{tech_list[i - 1]}\")"
   ]
  },
  {
   "cell_type": "markdown",
   "metadata": {
    "id": "k2HSxQF3HGtr"
   },
   "source": [
    "## Moving average\n",
    "\n",
    "TODO - comments/explanations\n",
    "\n",
    "Moving averages are usually calculated to identify the trend direction of a stock or to determine its support and resistance levels. So it repersents a best time for buying and selling based on crossover of moving average 20 and 50, it means if it cross below the resistance level then its time to buy"
   ]
  },
  {
   "cell_type": "code",
   "execution_count": null,
   "metadata": {
    "id": "ZnaJGggcG5pp"
   },
   "outputs": [],
   "source": [
    "ma_day = [10, 20, 50]\n",
    "\n",
    "for ma in ma_day:\n",
    "    for company in company_list:\n",
    "        column_name = f\"MA for {ma} days\"\n",
    "        company[column_name] = company['Adj Close'].rolling(ma).mean()\n",
    "\n",
    "df.groupby(\"company_name\").hist(figsize=(20, 10));"
   ]
  },
  {
   "cell_type": "markdown",
   "source": [
    "TODO - comments/explanations (breaking the above figure from this one)"
   ],
   "metadata": {
    "collapsed": false,
    "pycharm": {
     "name": "#%% md\n"
    }
   }
  },
  {
   "cell_type": "code",
   "execution_count": null,
   "metadata": {
    "colab": {
     "base_uri": "https://localhost:8080/",
     "height": 523
    },
    "id": "jcOeyce7HQKn",
    "outputId": "bc59bc1d-3579-4edd-d471-7d2f611d8fc6"
   },
   "outputs": [],
   "source": [
    "fig, axes = plt.subplots(nrows=2, ncols=2)\n",
    "fig.set_figheight(8)\n",
    "fig.set_figwidth(20)\n",
    "\n",
    "AAPL[['Adj Close', 'MA for 10 days', 'MA for 20 days', 'MA for 50 days']].plot(ax=axes[0,0])\n",
    "axes[0,0].set_title('APPLE')\n",
    "\n",
    "GOOG[['Adj Close', 'MA for 10 days', 'MA for 20 days', 'MA for 50 days']].plot(ax=axes[0,1])\n",
    "axes[0,1].set_title('GOOGLE')\n",
    "\n",
    "MSFT[['Adj Close', 'MA for 10 days', 'MA for 20 days', 'MA for 50 days']].plot(ax=axes[1,0])\n",
    "axes[1,0].set_title('MICROSOFT')\n",
    "\n",
    "AMZN[['Adj Close', 'MA for 10 days', 'MA for 20 days', 'MA for 50 days']].plot(ax=axes[1,1])\n",
    "axes[1,1].set_title('AMAZON')\n",
    "\n",
    "fig.tight_layout()"
   ]
  },
  {
   "cell_type": "markdown",
   "metadata": {
    "id": "aTCjNpeUHiw2"
   },
   "source": [
    "## Daily average return\n",
    "\n",
    "TODO - comments/explanations\n",
    "\n",
    "The daily return measures the dollar change in a stock's price as a percentage of the previous day's closing price. "
   ]
  },
  {
   "cell_type": "code",
   "execution_count": null,
   "metadata": {
    "colab": {
     "base_uri": "https://localhost:8080/",
     "height": 523
    },
    "id": "OMX2XHhUHcj_",
    "outputId": "295f5dd0-0e34-4413-8df9-18c071c6b934"
   },
   "outputs": [],
   "source": [
    "# Finding the percent change for each day\n",
    "for company in company_list:\n",
    "    company['Daily Return'] = company['Adj Close'].pct_change()\n",
    "\n",
    "# Plotting the daily return percentage\n",
    "fig, axes = plt.subplots(nrows=2, ncols=2)\n",
    "fig.set_figheight(8)\n",
    "fig.set_figwidth(20)\n",
    "\n",
    "AAPL['Daily Return'].plot(ax=axes[0,0], legend=True,  marker='o',color='b')\n",
    "axes[0,0].set_title('APPLE')\n",
    "\n",
    "GOOG['Daily Return'].plot(ax=axes[0,1], legend=True,  marker='o',color='g')\n",
    "axes[0,1].set_title('GOOGLE')\n",
    "\n",
    "MSFT['Daily Return'].plot(ax=axes[1,0], legend=True, marker='o',color='r')\n",
    "axes[1,0].set_title('MICROSOFT')\n",
    "\n",
    "AMZN['Daily Return'].plot(ax=axes[1,1], legend=True,  marker='o',color='y')\n",
    "axes[1,1].set_title('AMAZON')\n",
    "\n",
    "fig.tight_layout()"
   ]
  },
  {
   "cell_type": "markdown",
   "source": [
    "TODO - comments/explanations (breaking up figure from the above)"
   ],
   "metadata": {
    "collapsed": false,
    "pycharm": {
     "name": "#%% md\n"
    }
   }
  },
  {
   "cell_type": "code",
   "execution_count": null,
   "metadata": {
    "colab": {
     "base_uri": "https://localhost:8080/",
     "height": 871
    },
    "id": "3VcniX9gHmJQ",
    "outputId": "10881fe8-5aec-43e1-a765-2255423d813a"
   },
   "outputs": [],
   "source": [
    "plt.figure(figsize=(20, 12))\n",
    "\n",
    "for i, company in enumerate(company_list, 1):\n",
    "    plt.subplot(2, 2, i)\n",
    "    sns.histplot(company['Daily Return'].dropna(), bins=100, color='purple')\n",
    "    plt.ylabel('Daily Return')\n",
    "    plt.title(f'{company_name[i - 1]}')"
   ]
  },
  {
   "cell_type": "markdown",
   "metadata": {
    "id": "OwvE7iTwIcN1"
   },
   "source": [
    "## Correlation\n",
    "\n",
    "TODO - comments/explanation\n",
    "\n",
    "Correlation plays a very important role in terms of avoiding huge losses in terms of short period of time\n",
    "\n",
    "TODO - give explanation of the below"
   ]
  },
  {
   "cell_type": "code",
   "execution_count": null,
   "metadata": {
    "colab": {
     "base_uri": "https://localhost:8080/",
     "height": 226
    },
    "id": "jSHLdwD2IIF3",
    "outputId": "f46db89a-fcfd-49e4-d75d-39fb3e63faa3"
   },
   "outputs": [],
   "source": [
    "# TODO - is the below simpy close price?\n",
    "closing_df = DataReader(tech_list, 'yahoo', start, end)['Adj Close']\n",
    "closing_df.head() "
   ]
  },
  {
   "cell_type": "markdown",
   "source": [
    "TODO - give explanation of the below"
   ],
   "metadata": {
    "collapsed": false,
    "pycharm": {
     "name": "#%% md\n"
    }
   }
  },
  {
   "cell_type": "code",
   "execution_count": null,
   "metadata": {
    "colab": {
     "base_uri": "https://localhost:8080/",
     "height": 226
    },
    "id": "yFP6nbvYIebg",
    "outputId": "ab3f61e9-a301-4475-9c1d-f189328f6408"
   },
   "outputs": [],
   "source": [
    "# TODO - is the below relative change between today and previous day (as in above)?\n",
    "tech_rets = closing_df.pct_change()\n",
    "tech_rets.head()"
   ]
  },
  {
   "cell_type": "markdown",
   "metadata": {},
   "source": [
    "### Pairplot\n",
    "\n",
    "TODO - reformat text\n",
    "\n",
    "Pair plot is used to understand the best set of features to explain a relationship between two variables or to form the most separated clusters.\n",
    "\n",
    "TODO - explain the visualization"
   ]
  },
  {
   "cell_type": "code",
   "execution_count": null,
   "metadata": {
    "colab": {
     "base_uri": "https://localhost:8080/",
     "height": 742
    },
    "id": "Q1LYkbsbIp7b",
    "outputId": "9fd58b54-9b4a-4de9-8060-1bbc890e2c1c"
   },
   "outputs": [],
   "source": [
    "sns.pairplot(tech_rets, kind='reg')"
   ]
  },
  {
   "cell_type": "markdown",
   "metadata": {},
   "source": [
    "### Return on risk factor\n",
    "\n",
    "TODO - reformat text\n",
    "\n",
    "Now, we are going to compare each stock its return on risk factor and cluster them together with other stock\n",
    "\n",
    "TODO - explain the below (or ditch the above if duplicate)"
   ]
  },
  {
   "cell_type": "code",
   "execution_count": null,
   "metadata": {
    "colab": {
     "base_uri": "https://localhost:8080/",
     "height": 739
    },
    "id": "_dy9MkwZI2Kl",
    "outputId": "435a1033-a636-4f6b-9414-a20aeb7cf24b"
   },
   "outputs": [],
   "source": [
    "# TODO - duplicate of the above?\n",
    "# Set up our figures\n",
    "return_fig = sns.PairGrid(tech_rets.dropna())\n",
    "return_fig.map_upper(plt.scatter, color='purple')\n",
    "return_fig.map_lower(sns.kdeplot, cmap='cool_d')\n",
    "return_fig.map_diag(plt.hist, bins=30)"
   ]
  },
  {
   "cell_type": "markdown",
   "source": [
    "TODO - text for the below"
   ],
   "metadata": {
    "collapsed": false,
    "pycharm": {
     "name": "#%% md\n"
    }
   }
  },
  {
   "cell_type": "code",
   "execution_count": null,
   "metadata": {
    "colab": {
     "base_uri": "https://localhost:8080/",
     "height": 300
    },
    "id": "W5eWA6csJVkx",
    "outputId": "82d0774e-e534-4e32-c9cf-82018d2723b6"
   },
   "outputs": [],
   "source": [
    "# TODO - give title\n",
    "sns.heatmap(tech_rets.corr(), annot=True, cmap='gist_heat_r')"
   ]
  },
  {
   "cell_type": "markdown",
   "metadata": {},
   "source": [
    "TODO - reformat text\n",
    "\n",
    "We can clearly see that Apple and microsoft are highly correlated, so it's good to do pair trading rather than trading separately and wasting resources\n",
    "\n",
    "TODO - explain the below"
   ]
  },
  {
   "cell_type": "code",
   "execution_count": null,
   "metadata": {
    "colab": {
     "base_uri": "https://localhost:8080/",
     "height": 300
    },
    "id": "l0NCq43LJiAD",
    "outputId": "441c3b41-01e8-4a43-fef9-e7c2cf7bc787"
   },
   "outputs": [],
   "source": [
    "# TODO - what's this one about compared to the above?\n",
    "sns.heatmap(closing_df.corr(), annot=True, cmap='inferno')"
   ]
  },
  {
   "cell_type": "markdown",
   "metadata": {
    "id": "vEm586RTJu_M"
   },
   "source": [
    "## Risk\n",
    "\n",
    "TODO - comments/explanations"
   ]
  },
  {
   "cell_type": "code",
   "execution_count": null,
   "metadata": {
    "colab": {
     "base_uri": "https://localhost:8080/",
     "height": 640
    },
    "id": "WcaQkjkTJpe9",
    "outputId": "1a1eac3d-5e06-42a4-c523-440450e44e6d"
   },
   "outputs": [],
   "source": [
    "rets = tech_rets.dropna()\n",
    "\n",
    "area = np.pi*20\n",
    "\n",
    "plt.figure(figsize=(12, 10))\n",
    "plt.scatter(rets.mean(), rets.std(), s=area)\n",
    "plt.xlabel('Expected return')\n",
    "plt.ylabel('Risk')\n",
    "\n",
    "for label, x, y in zip(rets.columns, rets.mean(), rets.std()):\n",
    "    plt.annotate(label, xy=(x, y), xytext=(50, 50), textcoords='offset points', ha='right', va='bottom', \n",
    "                 arrowprops=dict(arrowstyle='-', color='blue', connectionstyle='arc3,rad=-0.3'))"
   ]
  },
  {
   "cell_type": "markdown",
   "metadata": {},
   "source": [
    "TODO - reformat (conclusion)\n",
    "\n",
    "We can clearly see that *Apple* is one of the secured the investment in terms of higher return and low risk"
   ]
  }
 ],
 "metadata": {
  "colab": {
   "authorship_tag": "ABX9TyNed7gHwK+i3ruxJUxKNeKD",
   "include_colab_link": true,
   "name": "Stock Market Analysis using LSTM .ipynb",
   "provenance": []
  },
  "kernelspec": {
   "display_name": "Python 3 (ipykernel)",
   "language": "python",
   "name": "python3"
  },
  "language_info": {
   "codemirror_mode": {
    "name": "ipython",
    "version": 3
   },
   "file_extension": ".py",
   "mimetype": "text/x-python",
   "name": "python",
   "nbconvert_exporter": "python",
   "pygments_lexer": "ipython3",
   "version": "3.9.5"
  }
 },
 "nbformat": 4,
 "nbformat_minor": 1
}